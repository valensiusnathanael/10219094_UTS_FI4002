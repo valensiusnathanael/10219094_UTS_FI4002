{
 "cells": [
  {
   "cell_type": "markdown",
   "id": "7e9d6d99",
   "metadata": {},
   "source": [
    "# Write functions linear_interpol() to calculate linear interpolation with input parameters are x and y, where both are list with the same length."
   ]
  },
  {
   "cell_type": "code",
   "execution_count": 1,
   "id": "14be3bd3",
   "metadata": {},
   "outputs": [],
   "source": [
    "import bisect\n",
    "# tulis persamaan untuk mencari interpolasi linear\n",
    "def linear_interpol(x,y,n):\n",
    "    x_int_input = input(\"Nilai X yang ingin diinterpolasi = \")\n",
    "    x_int = [float(x_int_input)]\n",
    "    y_int = []\n",
    "    \n",
    "    for x_i in x_int:\n",
    "        i = bisect.bisect_left(x, x_i)\n",
    "        if i == 0:\n",
    "            x_kiri = x[0]\n",
    "            y_kiri = y[0]\n",
    "            x_kanan = x[1]\n",
    "            y_kanan = y[1]\n",
    "        elif i == n:\n",
    "            x_kiri = x[-2]\n",
    "            y_kiri = y[-2]\n",
    "            x_kanan = x[-1]\n",
    "            y_kanan = y[-1]\n",
    "        else:\n",
    "            x_kiri = x[i-1]\n",
    "            y_kiri = y[i-1]\n",
    "            x_kanan = x[i]\n",
    "            y_kanan = y[i]\n",
    "        \n",
    "        #data yang telah dihitung diubah ke dalam persamaan interpolasi linear\n",
    "        grad = (y_kanan-y_kiri) / (x_kanan - x_kiri)\n",
    "        f_x = grad * (x_i - x_kiri) + y_kiri\n",
    "        #register data ke dalam fungsi f(x)\n",
    "        y_int.append(f_x)\n",
    "        #output hasil data yang ingin diinterpolasi\n",
    "        print(\"Hasil Interpolasi y = \",y_int)   \n",
    "    \n",
    "    \n",
    "    #menampilkan plot data ke dalam grafik \n",
    "    plt.plot(x_int, y_int, 'ro', label='Interpolated Points')\n",
    "    plt.plot(x, y, 'b-', label='Data Points')\n",
    "    plt.xlabel('X-axis')\n",
    "    plt.ylabel('Y-axis')\n",
    "    plt.legend()\n",
    "    plt.show()"
   ]
  },
  {
   "cell_type": "markdown",
   "id": "c205c7f0",
   "metadata": {},
   "source": [
    "# Write functions lagrange_interpol() to calculate Lagrange polynomial interpolation with input parameters are x and y, where both are list with the same length."
   ]
  },
  {
   "cell_type": "code",
   "execution_count": 2,
   "id": "b9c01f5d",
   "metadata": {},
   "outputs": [],
   "source": [
    "#persamaan interpolasi polinomial lagrange\n",
    "def lagrange_interpol(x,y,n):\n",
    "    import numpy as np\n",
    "    import matplotlib.pyplot as plt\n",
    "    \n",
    "    x_int_input = input(\"Nilai X yang ingin diinterpolasi = \")\n",
    "    x_int = float(x_int_input)\n",
    "    y_int = 0\n",
    "    \n",
    "    #masukkan data yang telah diinput ke dalam array numpy\n",
    "    x = np.array(x)\n",
    "    y = np.array(y)\n",
    "    \n",
    "    #hitung koefisien interpolasi\n",
    "    for i in range(int(n)):\n",
    "        p = 1\n",
    "        for j in range(int(n)):\n",
    "            if i != j:\n",
    "                p = p * (x_int - x[j])/(x[i] - x[j])\n",
    "        #masukkan koefisien interpolasi ke dalam persamaan polinomial lagrange\n",
    "        y_int = y_int + p * y[i]    \n",
    "    #ouput berupa nilai yang telah diinterpolasi dari x    \n",
    "    print('Hasil Interpolasi =', y_int)\n",
    "    \n",
    "    #buat array untuk diplot ke dalam grafik\n",
    "    x_range = np.linspace(x.min(), x.max(), 100)\n",
    "    y_range = np.zeros_like(x_range)\n",
    "    \n",
    "    for i in range(int(n)):\n",
    "        p = 1\n",
    "        for j in range(int(n)):\n",
    "            if i != j:\n",
    "                p = p * (x_range - x[j]) / (x[i] - x[j])\n",
    "        y_range = y_range + p * y[i]\n",
    "    \n",
    "    #tampilkan hasil plot grafik dari interpolasi lagrange\n",
    "    fig, ax = plt.subplots()\n",
    "    ax.scatter(x, y, label='Data')\n",
    "    ax.plot(x_range, y_range, label='Interpolated Function')\n",
    "    ax.axvline(x=x_int, linestyle='--', color='gray', label=f'X_int={x_int}')\n",
    "    ax.axhline(y=y_int, linestyle='--', color='gray', label=f'Y_int={y_int}')\n",
    "    plt.xlabel('X-axis')\n",
    "    plt.ylabel('Y-axis')\n",
    "    plt.legend()\n",
    "    \n",
    "    plt.show()"
   ]
  },
  {
   "cell_type": "markdown",
   "id": "26d65992",
   "metadata": {},
   "source": [
    "# Write function linear_regression() to calculate c_0 and c_1 with input parameters are x and y, where both are list with the same length."
   ]
  },
  {
   "cell_type": "code",
   "execution_count": 3,
   "id": "85fb6f09",
   "metadata": {},
   "outputs": [],
   "source": [
    "#persamaan regresi linear\n",
    "def linear_regression():\n",
    "    import numpy as np\n",
    "    a = 0\n",
    "    b = 0\n",
    "    c = 0\n",
    "    d = 0\n",
    "    e = 0\n",
    "    for i in range(int(n)):\n",
    "        a = a + x[i] * y[i]\n",
    "        b = b + x[i]\n",
    "        c = c + y[i]\n",
    "        d = d + (x[i] * x[i])\n",
    "        e = b * b\n",
    "    \n",
    "    #hitung nilai koefisien dari persamaan regresi linear\n",
    "    c_1 = (int(n) * a - b * c) / (int(n) * d - e)\n",
    "    c_0 = (d * c - b * a) / (int(n) * d - e)\n",
    "    print(\"c_0 = \",c_0)\n",
    "    print(\"c_1 = \",c_1)\n",
    "    \n",
    "    #masukkan data x ke dalam array numpy\n",
    "    x_array= np.array(x)\n",
    "    #tulis persamaan regresi linear dari seluruh koefiesien dan cari nilai y dari persamaan \n",
    "    f_x = c_1*x_array + c_0\n",
    "    y_val = f_x\n",
    "    \n",
    "    #plot grafik dari persamaan linear dari data\n",
    "    plt.figure(figsize=(12, 6))\n",
    "    plt.plot(x, y_val)     # regression line\n",
    "    plt.plot(x, y, 'ro')   # scatter plot showing actual data\n",
    "    plt.title('Linear Regression')\n",
    "    plt.xlabel('X-axis')\n",
    "    plt.ylabel('Y-axis')\n",
    "    plt.legend()\n",
    "\n",
    "    plt.show()"
   ]
  },
  {
   "cell_type": "markdown",
   "id": "4ef71234",
   "metadata": {},
   "source": [
    "# Plot curves using, directly or indirectly, the functions linear_regression(), linear_interpol(), lagrange_interpol(), and the data x and y. Set right label to each series and show them in the plot legend."
   ]
  },
  {
   "cell_type": "code",
   "execution_count": 4,
   "id": "022b1894",
   "metadata": {},
   "outputs": [
    {
     "name": "stdout",
     "output_type": "stream",
     "text": [
      "Banyak Data = 10\n",
      "Masukkan Nilai X0=15\n",
      "Masukkan Nilai Y0=65\n",
      "Masukkan Nilai X1=13\n",
      "Masukkan Nilai Y1=61\n",
      "Masukkan Nilai X2=14\n",
      "Masukkan Nilai Y2=60\n",
      "Masukkan Nilai X3=15\n",
      "Masukkan Nilai Y3=63\n",
      "Masukkan Nilai X4=13\n",
      "Masukkan Nilai Y4=59\n",
      "Masukkan Nilai X5=14\n",
      "Masukkan Nilai Y5=62\n",
      "Masukkan Nilai X6=12\n",
      "Masukkan Nilai Y6=56\n",
      "Masukkan Nilai X7=14\n",
      "Masukkan Nilai Y7=61\n",
      "Masukkan Nilai X8=13\n",
      "Masukkan Nilai Y8=60\n",
      "Masukkan Nilai X9=12\n",
      "Masukkan Nilai Y9=58\n",
      "x= (12.0, 12.0, 13.0, 13.0, 13.0, 14.0, 14.0, 14.0, 15.0, 15.0)\n",
      "y= (56.0, 58.0, 59.0, 60.0, 61.0, 60.0, 61.0, 62.0, 63.0, 65.0)\n",
      "\n",
      "Menu\n",
      "1.Regresi Linear\n",
      "2.Interpolasi Linear\n",
      "3.Interpolasi Polinomial Lagrange\n",
      "Pilih Menu:\n",
      "1\n"
     ]
    },
    {
     "name": "stderr",
     "output_type": "stream",
     "text": [
      "No artists with labels found to put in legend.  Note that artists whose label start with an underscore are ignored when legend() is called with no argument.\n"
     ]
    },
    {
     "name": "stdout",
     "output_type": "stream",
     "text": [
      "c_0 =  31.571428571428573\n",
      "c_1 =  2.142857142857143\n"
     ]
    },
    {
     "data": {
      "image/png": "[encoded data removed]",
      "text/plain": [
       "<Figure size 1200x600 with 1 Axes>"
      ]
     },
     "metadata": {},
     "output_type": "display_data"
    }
   ],
   "source": [
    "import matplotlib.pyplot as plt\n",
    "import numpy as np\n",
    "\n",
    "#input banyak data sebagai database awal\n",
    "n = input(\"Banyak Data = \")\n",
    "x = []\n",
    "y = []\n",
    "#masukkan seluruh data xi dan yi\n",
    "for i in range(int(n)):\n",
    "    j = input('Masukkan Nilai X'+str(i)+'=')\n",
    "    x.append(float(j))\n",
    "    k = input('Masukkan Nilai Y'+str(i)+'=')\n",
    "    y.append(float(k)) \n",
    "\n",
    "#ikat data xi dengan yi ke dalam zip\n",
    "data = list(zip(x, y))    \n",
    "#urutkan data berdasarkan nilai x dari kecil ke terbesar\n",
    "data.sort()\n",
    "#pisahkan kembali data yang telah diurutkan ke dalam dua array yang berbeda\n",
    "x,y = zip(*data)\n",
    "\n",
    "#tampilkan hasil array x dan y yang telah diurutkan\n",
    "print('x=',x)\n",
    "print('y=',y)\n",
    "print()\n",
    "\n",
    "#tampilkan menu yang akan dipilih oleh user (data ingin diapakan ?)\n",
    "print(\"Menu\")\n",
    "print(\"1.Regresi Linear\")\n",
    "print(\"2.Interpolasi Linear\")\n",
    "print(\"3.Interpolasi Polinomial Lagrange\")\n",
    "print(\"Pilih Menu (tulis angka 1/2/3):\")\n",
    "input_menu = input()\n",
    "\n",
    "#panggil fungsi interpolasi atau regresi sesuai dengan pilihan menu\n",
    "if(input_menu == '2'):\n",
    "    linear_interpol(x,y,n)\n",
    "elif(input_menu == '3'):\n",
    "    lagrange_interpol(x,y,n)\n",
    "elif(input_menu == '1'):\n",
    "    linear_regression()\n"
   ]
  }
 ],
 "metadata": {
  "kernelspec": {
   "display_name": "Python 3 (ipykernel)",
   "language": "python",
   "name": "python3"
  },
  "language_info": {
   "codemirror_mode": {
    "name": "ipython",
    "version": 3
   },
   "file_extension": ".py",
   "mimetype": "text/x-python",
   "name": "python",
   "nbconvert_exporter": "python",
   "pygments_lexer": "ipython3",
   "version": "3.11.2"
  }
 },
 "nbformat": 4,
 "nbformat_minor": 5
}
