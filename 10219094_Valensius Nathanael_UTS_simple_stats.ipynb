{
 "cells": [
  {
   "cell_type": "markdown",
   "id": "90ba4379",
   "metadata": {},
   "source": [
    "# Write codes to obtain x from X and number N of x"
   ]
  },
  {
   "cell_type": "code",
   "execution_count": null,
   "id": "886b7732",
   "metadata": {},
   "outputs": [],
   "source": [
    "# Data statistik yang akan dihitung disimpan dalam variable X sebagai array\n",
    "X=[4,7,5,1,3,6,4,8,5,7,2,5,6,3,9,6,8,5,7,4]\n",
    "\n",
    "# input berguna untuk memasukan letak posisi i untuk dicari nilai x nya dalam X\n",
    "i=input(\"Masukkan Nilai i = \")\n",
    "hasil=X[int(i)]\n",
    "print(\"Hasil = \",hasil)\n",
    "print()\n",
    "\n",
    "# input berguna untuk memasukan nilai X untuk dicari posisinya (i) dalam array X\n",
    "a=0\n",
    "j=input(\"Masukkan Angka = \")\n",
    "\n",
    "# len(x) adalah code untuk mencari banyak data yang terdapat dalam array\n",
    "for z in range(len(X)):\n",
    "    if int(j) == X[z]:\n",
    "        a += 1\n",
    "        print(\"Position = \",z)\n",
    "print(\"Banyak Data = \",a)  "
   ]
  },
  {
   "cell_type": "markdown",
   "id": "6172392a",
   "metadata": {},
   "source": [
    "# Write codes to obtain mean x_mean, median x_med, and mode x_mod of x."
   ]
  },
  {
   "cell_type": "code",
   "execution_count": 2,
   "id": "78cdee8d",
   "metadata": {},
   "outputs": [
    {
     "name": "stdout",
     "output_type": "stream",
     "text": [
      "X_mean =  5.25\n",
      "X_median =  5.0\n",
      "X_mod =  5\n"
     ]
    }
   ],
   "source": [
    "import numpy as np\n",
    "\n",
    "# Data statistik yang akan dihitung disimpan dalam variable X sebagai array\n",
    "X=[4,7,5,1,3,6,4,8,5,7,2,5,6,3,9,6,8,5,7,4]\n",
    "\n",
    "# deklarasi awal\n",
    "hasil = 0\n",
    "a = 0\n",
    "b = 0\n",
    "counter = 0\n",
    "num = X[0]\n",
    "n = len(X)\n",
    "\n",
    "#looping untuk melakukan penjumlahan  terhadap seluruh data x\n",
    "for z in range(n):\n",
    "    a = X[z]\n",
    "    b = b + X[z]\n",
    "\n",
    "#nilai rata-rata\n",
    "X_mean = b/n\n",
    "print(\"X_mean = \",X_mean)\n",
    "\n",
    "#urutkan data\n",
    "X_sorted = np.sort(X)\n",
    "\n",
    "#untuk mencari nilai median, data yang telah diurutkan dicari nilai tengahnya sesuai dengan kondisi jumlah data\n",
    "if n % 2 == 0:\n",
    "    hasil = (X_sorted[(n//2)-1] + X_sorted[n//2]) / 2\n",
    "    print(\"X_median = \",hasil)\n",
    "else:\n",
    "    hasil = X_sorted[n//2]\n",
    "    print(\"X_median = \",hasil)\n",
    "\n",
    "#untuk mencari nilai mode, data yang telah diurutkan dicari nilai terbanyak yang paling sering muncul\n",
    "for y in X:\n",
    "    d = X.count(y)\n",
    "    if d > counter:\n",
    "        counter = d\n",
    "        num = y\n",
    "print(\"X_mod = \", num)"
   ]
  },
  {
   "cell_type": "markdown",
   "id": "a83e9eca",
   "metadata": {},
   "source": [
    "# Write codes to obtain maximum x_max, minimum x_min, and range x_range of x."
   ]
  },
  {
   "cell_type": "code",
   "execution_count": 3,
   "id": "d4ae8047",
   "metadata": {},
   "outputs": [
    {
     "name": "stdout",
     "output_type": "stream",
     "text": [
      "X_max =  9\n",
      "X_min =  1\n",
      "X_range =  8\n"
     ]
    }
   ],
   "source": [
    "import numpy as np\n",
    "\n",
    "# Data statistik yang akan dihitung disimpan dalam variable X sebagai array\n",
    "X=[4,7,5,1,3,6,4,8,5,7,2,5,6,3,9,6,8,5,7,4]\n",
    "# ukur berapa banyak data dalam X\n",
    "n = len(X)\n",
    "\n",
    "#urutkan data dari kecil ke terbesar\n",
    "X_sorted = np.sort(X)\n",
    "\n",
    "#data paling akhir = data terbesar, sedangkan data paling awal = data terkecel\n",
    "X_max = X_sorted[n-1]\n",
    "X_min = X_sorted[0]\n",
    "\n",
    "#print hasil. range adalah jangkauan data dimana range = xmax- xmin\n",
    "print(\"X_max = \",X_max)\n",
    "print(\"X_min = \",X_min)\n",
    "print(\"X_range = \", X_max-X_min)"
   ]
  },
  {
   "cell_type": "markdown",
   "id": "1349661b",
   "metadata": {},
   "source": [
    "# Write codes to obtain variance x_var and standard deviation x_sdev of x."
   ]
  },
  {
   "cell_type": "code",
   "execution_count": 4,
   "id": "3c3c8ddc",
   "metadata": {},
   "outputs": [
    {
     "name": "stdout",
     "output_type": "stream",
     "text": [
      "X_var =  4.407894736842105\n",
      "X_dev =  2.0994986870303363\n"
     ]
    }
   ],
   "source": [
    "import math\n",
    "\n",
    "# Data statistik yang akan dihitung disimpan dalam variable X sebagai array\n",
    "X=[4,7,5,1,3,6,4,8,5,7,2,5,6,3,9,6,8,5,7,4]\n",
    "n = len(X)\n",
    "m = 0\n",
    "l = 0\n",
    "\n",
    "X_mean = b/n\n",
    "\n",
    "#looping untuk menjumlahkan seluruh (x-xmean)^2\n",
    "for i in range(n):\n",
    "    a = float(X[i])\n",
    "    k = (a-X_mean)*(a-X_mean)\n",
    "    l = l + k\n",
    "\n",
    "#cari nilai standar deviasi dan variansi x_dev dan x_var\n",
    "X_var = l/(n-1)\n",
    "X_dev = math.sqrt(X_var)\n",
    "print(\"X_var = \",X_var)\n",
    "print(\"X_dev = \",X_dev)"
   ]
  }
 ],
 "metadata": {
  "kernelspec": {
   "display_name": "Python 3 (ipykernel)",
   "language": "python",
   "name": "python3"
  },
  "language_info": {
   "codemirror_mode": {
    "name": "ipython",
    "version": 3
   },
   "file_extension": ".py",
   "mimetype": "text/x-python",
   "name": "python",
   "nbconvert_exporter": "python",
   "pygments_lexer": "ipython3",
   "version": "3.11.2"
  }
 },
 "nbformat": 4,
 "nbformat_minor": 5
}
