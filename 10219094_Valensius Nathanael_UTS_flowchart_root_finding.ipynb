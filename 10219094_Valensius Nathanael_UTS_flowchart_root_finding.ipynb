{
 "cells": [
  {
   "cell_type": "markdown",
   "id": "90210998",
   "metadata": {},
   "source": [
    "# Kotretan flowchart\n",
    "import base64\n",
    "from IPython.display import Image, display\n",
    "import matplotlib.pyplot as plt\n",
    "\n",
    "def mermaid(graph, **kwargs):\n",
    "    graphbytes = graph.encode('ascii')\n",
    "    base64_bytes = base64.b64encode(graphbytes)\n",
    "    base64_string = base64_bytes.decode('ascii')\n",
    "    bgcolor = '!white'\n",
    "    display(\n",
    "        Image(\n",
    "            url='https://mermaid.ink/img/'\n",
    "            + base64_string + '?' + bgcolor\n",
    "            )\n",
    "    )\n",
    "\n",
    "g = \"\"\"\n",
    "graph TD\n",
    "    B([\"Begin\"]) -->\n",
    "    I[/\"x<sub>0</sub>, f(x), <br>f'(x), &epsilon;<sub>max</sub>\"/] -->\n",
    "    P1[\"i = 1\"] -->\n",
    "    o1((\" \"))-->\n",
    "    P3[\"&Delta;x = f(x<sub>i-1</sub>) / f'(x<sub>i-1</sub>)\"] -->\n",
    "    P4[\"x<sub>i</sub> = x<sub>i-1</sub>\\\n",
    "      &mdash; &Delta;x\"] -->\n",
    "    P5[\"&epsilon; = |f(x<sub>i</sub>)|\"] -->\n",
    "    C{\"&epsilon; &le; &epsilon;<sub>max</sub>\"} -->|Y| O[/\"x<sub>i</sub>\"/]\n",
    "    C{\"&epsilon; &le; &epsilon;<sub>max</sub>\"} -->|N| P6[\"i = i + 1\"]\n",
    "    O[/\"x<sub>i</sub>\"/] --> E([\"End\"])\n",
    "    P6[\"i = i + 1\"] --> o1((\" \"))\n",
    "\"\"\"\n",
    "mermaid(g)"
   ]
  },
  {
   "cell_type": "markdown",
   "id": "bec82442",
   "metadata": {},
   "source": [
    "# Modify following lines of code in order to produce right flowchart for finding root using secant method."
   ]
  },
  {
   "cell_type": "code",
   "execution_count": 1,
   "id": "68fae89b",
   "metadata": {},
   "outputs": [
    {
     "data": {
      "text/html": [
       "<img src=\"https://mermaid.ink/img/CmdyYXBoIFRECiAgICBCKFsiQmVnaW4iXSkgLS0+CiAgICBJWy8ieDxzdWI+MDwvc3ViPiwgeDxzdWI+MTwvc3ViPiwgPGJyPmYoeDxzdWI+MDwvc3ViPiksIGYoeDxzdWI+MTwvc3ViPiksICZlcHNpbG9uOzxzdWI+bWF4PC9zdWI+Ii9dIC0tPgogICAgUDFbImkgPSAxIl0gLS0+CiAgICBvMSgoIiAiKSktLT4KICAgIFAyWyJ4PHN1Yj4yPC9zdWI+ID0geDxzdWI+MTwvc3ViPiAtIGYoeDxzdWI+MTwvc3ViPikqKHg8c3ViPjE8L3N1Yj4gLSB4PHN1Yj4wPC9zdWI+KSAvIChmKHg8c3ViPjE8L3N1Yj4pIC0gZih4PHN1Yj4wPC9zdWI+KSkiXSAtLT4KICAgIFAzWyImZXBzaWxvbjsgPSB8Zih4PHN1Yj4yPC9zdWI+KXwiXSAtLT4KICAgIEN7IiZlcHNpbG9uOyAmbGU7ICZlcHNpbG9uOzxzdWI+bWF4PC9zdWI+In0gLS0+fFl8IE9bLyJ4PHN1Yj4yPC9zdWI+Ii9dCiAgICBDeyImZXBzaWxvbjsgJmxlOyAmZXBzaWxvbjs8c3ViPm1heDwvc3ViPiJ9IC0tPnxOfCBQNFsiaSA9IGkgKyAxIl0gLS0+IFA1WyJ4PHN1Yj4wPC9zdWI+ID0geDxzdWI+MTwvc3ViPiJdIC0tPiBQNlsieDxzdWI+MTwvc3ViPiA9IHg8c3ViPjI8L3N1Yj4iXSAtLT4gUDIKICAgIE9bLyJ4PHN1Yj4yPC9zdWI+Ii9dIC0tPiBFKFsiRW5kIl0pCg==?!white\"/>"
      ],
      "text/plain": [
       "<IPython.core.display.Image object>"
      ]
     },
     "metadata": {},
     "output_type": "display_data"
    }
   ],
   "source": [
    "import base64\n",
    "from IPython.display import Image, display\n",
    "import matplotlib.pyplot as plt\n",
    "\n",
    "def mermaid(graph, **kwargs):\n",
    "    graphbytes = graph.encode('ascii')\n",
    "    base64_bytes = base64.b64encode(graphbytes)\n",
    "    base64_string = base64_bytes.decode('ascii')\n",
    "    bgcolor = '!white'\n",
    "    display(\n",
    "        Image(\n",
    "            url='https://mermaid.ink/img/'\n",
    "            + base64_string + '?' + bgcolor\n",
    "            )\n",
    "    )\n",
    "\n",
    "g = \"\"\"\n",
    "graph TD\n",
    "    B([\"Begin\"]) -->\n",
    "    I[/\"x<sub>0</sub>, x<sub>1</sub>, <br>f(x<sub>0</sub>), f(x<sub>1</sub>), &epsilon;<sub>max</sub>\"/] -->\n",
    "    P1[\"i = 1\"] -->\n",
    "    o1((\" \"))-->\n",
    "    P2[\"x<sub>2</sub> = x<sub>1</sub> - f(x<sub>1</sub>)*(x<sub>1</sub> - x<sub>0</sub>) / (f(x<sub>1</sub>) - f(x<sub>0</sub>))\"] -->\n",
    "    P3[\"&epsilon; = |f(x<sub>2</sub>)|\"] -->\n",
    "    C{\"&epsilon; &le; &epsilon;<sub>max</sub>\"} -->|Y| O[/\"x<sub>2</sub>\"/]\n",
    "    C{\"&epsilon; &le; &epsilon;<sub>max</sub>\"} -->|N| P4[\"i = i + 1\"] --> P5[\"x<sub>0</sub> = x<sub>1</sub>\"] --> P6[\"x<sub>1</sub> = x<sub>2</sub>\"] --> P2\n",
    "    O[/\"x<sub>2</sub>\"/] --> E([\"End\"])\n",
    "\"\"\"\n",
    "mermaid(g)"
   ]
  },
  {
   "cell_type": "markdown",
   "id": "dbf5b6c1",
   "metadata": {},
   "source": [
    "# Make a function f(x) for f(x) = x^3 - 2x^2 + x -1"
   ]
  },
  {
   "cell_type": "code",
   "execution_count": 2,
   "id": "1f21f055",
   "metadata": {},
   "outputs": [],
   "source": [
    "#Tulis persamaan fungsi f(X)\n",
    "def f(x):\n",
    "    hasil = x*x*x - 2*x*x + x - 1\n",
    "    return hasil"
   ]
  },
  {
   "cell_type": "markdown",
   "id": "a28ec099",
   "metadata": {},
   "source": [
    "# Make a function smaller_root_range(f, xbeg, xend, dx) using f(x) from xbeg = -1 until xend = 2 with dx = 0.1 that return smaller range xleft, xright"
   ]
  },
  {
   "cell_type": "code",
   "execution_count": 8,
   "id": "5a9d776c",
   "metadata": {},
   "outputs": [
    {
     "name": "stdout",
     "output_type": "stream",
     "text": [
      "1.7000000000000004 < x root < 1.8000000000000005\n"
     ]
    }
   ],
   "source": [
    "#tulis fungsi untuk mencari range yang lebih kecil dimana letak akar berada\n",
    "def smaller_root_range(f, x_beg, x_end, dx):\n",
    "    found_root = False\n",
    "    x = x_beg\n",
    "\n",
    "    #looping untuk scan range dimana hasil perkalian dari titik kiri dan titik kanan harus negatif\n",
    "    #agar range tersebut dapat dikatakan memiliki akar dengan jarak yang sangat kecil\n",
    "    while x < x_end and not found_root:\n",
    "        if f(x) * f(x + dx) < 0:\n",
    "            x_left = x\n",
    "            x_right = x + dx\n",
    "            found_root = True\n",
    "            print(x_left,'< x root <',x_right)\n",
    "        x += dx\n",
    "    #apabila looping telah habis dan range yang didalamnya memiliki akar tidak ditemukan maka hasil yang diprint \n",
    "    #pada output menjadi tidak ada akar\n",
    "    if not found_root:\n",
    "        x_left = 'Tidak ada akar'\n",
    "        x_right = 'Tidak ada akar'\n",
    "        print(x_left,'< x root <',x_right)\n",
    "\n",
    "#masukan data awal\n",
    "x_beg = -1\n",
    "x_end = 2\n",
    "dx = 0.1\n",
    "#panggil fungsi smaller_root_range()\n",
    "smaller_root_range(f, x_beg, x_end, dx)"
   ]
  },
  {
   "cell_type": "markdown",
   "id": "d2fe11c7",
   "metadata": {},
   "source": [
    "# Make function for secant method root_secant() and use function f(x) to find the root with initial conditions are previous values of xbeg and xend. Compare the result from this method with previous method."
   ]
  },
  {
   "cell_type": "code",
   "execution_count": 9,
   "id": "a0cf13d7",
   "metadata": {},
   "outputs": [
    {
     "name": "stdout",
     "output_type": "stream",
     "text": [
      "akar dari f(x)= 1.7548776662455934\n"
     ]
    }
   ],
   "source": [
    "# tulis persamaan secant method\n",
    "def root_secant(f, x_beg, x_end, eps):\n",
    "    x_0 = x_beg\n",
    "    x_1 = x_end\n",
    "    #apabila selisih x baru dan x lama yang ditemukan masih lebih besar dari epsilon, maka program akan terus jalan \n",
    "    while abs(x_1 - x_0) > eps:\n",
    "        #print('x_0 = ',x_0)\n",
    "        #print('x_1 = ',x_1)\n",
    "        \n",
    "        #rumus untuk mencari nilai x baru yang diduga akar\n",
    "        x_baru = x_1 - f(x_1) * (x_1 - x_0) / (f(x_1) - f(x_0))\n",
    "        x_0 = x_1\n",
    "        x_1 = x_baru\n",
    "    print('akar dari f(x)=',x_1)\n",
    "\n",
    "#masukan data awal\n",
    "x_beg = -1\n",
    "x_end = 2\n",
    "eps = 0.0000001\n",
    "#panggil fungsi secant method untuk mencari akar\n",
    "root_secant(f, x_beg, x_end, eps)\n"
   ]
  },
  {
   "cell_type": "markdown",
   "id": "fa733551",
   "metadata": {},
   "source": [
    "Dapat disimpulkan bahwa nilai yang didapat dari secant method memiliki nilai yang berada dalam range akar yang lebih kecil dari fungsi smaller_root_range()"
   ]
  }
 ],
 "metadata": {
  "kernelspec": {
   "display_name": "Python 3 (ipykernel)",
   "language": "python",
   "name": "python3"
  },
  "language_info": {
   "codemirror_mode": {
    "name": "ipython",
    "version": 3
   },
   "file_extension": ".py",
   "mimetype": "text/x-python",
   "name": "python",
   "nbconvert_exporter": "python",
   "pygments_lexer": "ipython3",
   "version": "3.11.2"
  }
 },
 "nbformat": 4,
 "nbformat_minor": 5
}
